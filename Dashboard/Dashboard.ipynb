{
 "cells": [
  {
   "cell_type": "code",
   "execution_count": 1,
   "metadata": {},
   "outputs": [],
   "source": [
    "import dash\n",
    "from dash import dcc, html\n",
    "from dash.dependencies import Input, Output\n",
    "import plotly.graph_objs as go\n",
    "import pandas as pd\n",
    "import requests\n",
    "from datetime import datetime\n"
   ]
  },
  {
   "cell_type": "code",
   "execution_count": 5,
   "metadata": {},
   "outputs": [
    {
     "data": {
      "text/html": [
       "\n",
       "        <iframe\n",
       "            width=\"100%\"\n",
       "            height=\"650\"\n",
       "            src=\"http://127.0.0.1:8050/\"\n",
       "            frameborder=\"0\"\n",
       "            allowfullscreen\n",
       "            \n",
       "        ></iframe>\n",
       "        "
      ],
      "text/plain": [
       "<IPython.lib.display.IFrame at 0x11c2c0f50>"
      ]
     },
     "metadata": {},
     "output_type": "display_data"
    }
   ],
   "source": [
    "# Initialize Dash app\n",
    "app = dash.Dash(__name__)\n",
    "\n",
    "# Create layout\n",
    "app.layout = html.Div([\n",
    "    # Graph component\n",
    "    dcc.Graph(id='live-graph'),\n",
    "\n",
    "    # Triggers periodically\n",
    "    dcc.Interval(\n",
    "        id='interval-component',\n",
    "        interval=10_000,\n",
    "        n_intervals=0\n",
    "    )\n",
    "])\n",
    "\n",
    "# Initialize empty dataframe\n",
    "df = pd.DataFrame(columns=['timestamp', 'value'])\n",
    "\n",
    "\n",
    "# Define callback to update graph\n",
    "@app.callback(\n",
    "    Output('live-graph', 'figure'),\n",
    "    [Input('interval-component', 'n_intervals')]\n",
    ")\n",
    "def update_graph(n):  # increment from intervals\n",
    "\n",
    "    # Request API\n",
    "    box_id = \"6645db6eeb5aad0007a6e4b6\"\n",
    "    url = f\"https://api.opensensemap.org/boxes/{box_id}?format=json\"\n",
    "    data = requests.get(url).json()\n",
    "    value = data['sensors'][1]['lastMeasurement']['value']\n",
    "    timestamp = datetime.now()\n",
    "\n",
    "    global df\n",
    "    df = pd.concat([df, pd.DataFrame([{'timestamp': timestamp, 'value': float(value)}])], ignore_index=True)\n",
    "\n",
    "    # Plot data\n",
    "    trace = go.Scatter(x=df['timestamp'], y=df['value'], mode='lines+markers')\n",
    "    layout = go.Layout(title='Real-time Sensor Data', xaxis=dict(title='Timestamp'), yaxis=dict(title='Value'))\n",
    "    fig = go.Figure(data=[trace], layout=layout)\n",
    "    return fig\n",
    "\n",
    "\n",
    "if __name__ == '__main__':\n",
    "    app.run_server(debug=True, use_reloader=False)\n"
   ]
  }
 ],
 "metadata": {
  "kernelspec": {
   "display_name": "Python 3",
   "language": "python",
   "name": "python3"
  },
  "language_info": {
   "codemirror_mode": {
    "name": "ipython",
    "version": 3
   },
   "file_extension": ".py",
   "mimetype": "text/x-python",
   "name": "python",
   "nbconvert_exporter": "python",
   "pygments_lexer": "ipython3",
   "version": "3.11.5"
  }
 },
 "nbformat": 4,
 "nbformat_minor": 2
}
